{
  "nbformat": 4,
  "nbformat_minor": 0,
  "metadata": {
    "colab": {
      "provenance": [],
      "mount_file_id": "1WpeprW7aNWFHFq8jNa7cOHCihVqBY-xM",
      "authorship_tag": "ABX9TyNAru0mppLfp6ivPYDUqYOj",
      "include_colab_link": true
    },
    "kernelspec": {
      "name": "python3",
      "display_name": "Python 3"
    },
    "language_info": {
      "name": "python"
    }
  },
  "cells": [
    {
      "cell_type": "markdown",
      "metadata": {
        "id": "view-in-github",
        "colab_type": "text"
      },
      "source": [
        "<a href=\"https://colab.research.google.com/github/hanyuc37/Dog_Breed_Analytics/blob/main/Dog_Breed_Analysis_Hanyu_Chen.ipynb\" target=\"_parent\"><img src=\"https://colab.research.google.com/assets/colab-badge.svg\" alt=\"Open In Colab\"/></a>"
      ]
    },
    {
      "cell_type": "code",
      "execution_count": 737,
      "metadata": {
        "id": "MwSAnmmGlYTb"
      },
      "outputs": [],
      "source": [
        "import numpy as np\n",
        "import pandas as pd\n",
        "import seaborn as sns\n",
        "import matplotlib.pyplot as plt\n",
        "import math\n"
      ]
    },
    {
      "cell_type": "code",
      "source": [
        "data = pd.read_csv(\"/content/drive/MyDrive/Dog Breed/dog_breeds.csv\")\n",
        "data.head()"
      ],
      "metadata": {
        "colab": {
          "base_uri": "https://localhost:8080/",
          "height": 354
        },
        "id": "EQhFjmVamQdT",
        "outputId": "7dfc4c71-548c-436a-c8a0-b299b08ec141"
      },
      "execution_count": 738,
      "outputs": [
        {
          "output_type": "execute_result",
          "data": {
            "text/plain": [
              "                Breed Country of Origin                     Fur Color  \\\n",
              "0  Labrador Retriever            Canada      Yellow, Black, Chocolate   \n",
              "1     German Shepherd           Germany                    Black, Tan   \n",
              "2             Bulldog           England                    White, Red   \n",
              "3              Poodle            France  White, Black, Brown, Apricot   \n",
              "4              Beagle           England        White, Tan, Red, Lemon   \n",
              "\n",
              "  Height (in) Color of Eyes Longevity (yrs)  \\\n",
              "0       21-24         Brown           10-12   \n",
              "1       22-26         Brown            7-10   \n",
              "2       12-16         Brown            8-10   \n",
              "3       10-15   Brown, Blue           12-15   \n",
              "4       13-15         Brown           12-15   \n",
              "\n",
              "                                    Character Traits  \\\n",
              "0  Loyal, friendly, intelligent, energetic, good-...   \n",
              "1  Loyal, intelligent, protective, confident, tra...   \n",
              "2                         Loyal, calm, gentle, brave   \n",
              "3  Intelligent, active, affectionate, hypoallergenic   \n",
              "4         Curious, friendly, energetic, good-natured   \n",
              "\n",
              "                         Common Health Problems  \n",
              "0        Hip dysplasia, obesity, ear infections  \n",
              "1  Hip dysplasia, elbow dysplasia, pancreatitis  \n",
              "2   Skin allergies, respiratory issues, obesity  \n",
              "3       Hip dysplasia, epilepsy, bladder stones  \n",
              "4       Ear infections, hip dysplasia, epilepsy  "
            ],
            "text/html": [
              "\n",
              "  <div id=\"df-5cd0ad99-23f1-4b5d-b3e8-230225d0bbc9\">\n",
              "    <div class=\"colab-df-container\">\n",
              "      <div>\n",
              "<style scoped>\n",
              "    .dataframe tbody tr th:only-of-type {\n",
              "        vertical-align: middle;\n",
              "    }\n",
              "\n",
              "    .dataframe tbody tr th {\n",
              "        vertical-align: top;\n",
              "    }\n",
              "\n",
              "    .dataframe thead th {\n",
              "        text-align: right;\n",
              "    }\n",
              "</style>\n",
              "<table border=\"1\" class=\"dataframe\">\n",
              "  <thead>\n",
              "    <tr style=\"text-align: right;\">\n",
              "      <th></th>\n",
              "      <th>Breed</th>\n",
              "      <th>Country of Origin</th>\n",
              "      <th>Fur Color</th>\n",
              "      <th>Height (in)</th>\n",
              "      <th>Color of Eyes</th>\n",
              "      <th>Longevity (yrs)</th>\n",
              "      <th>Character Traits</th>\n",
              "      <th>Common Health Problems</th>\n",
              "    </tr>\n",
              "  </thead>\n",
              "  <tbody>\n",
              "    <tr>\n",
              "      <th>0</th>\n",
              "      <td>Labrador Retriever</td>\n",
              "      <td>Canada</td>\n",
              "      <td>Yellow, Black, Chocolate</td>\n",
              "      <td>21-24</td>\n",
              "      <td>Brown</td>\n",
              "      <td>10-12</td>\n",
              "      <td>Loyal, friendly, intelligent, energetic, good-...</td>\n",
              "      <td>Hip dysplasia, obesity, ear infections</td>\n",
              "    </tr>\n",
              "    <tr>\n",
              "      <th>1</th>\n",
              "      <td>German Shepherd</td>\n",
              "      <td>Germany</td>\n",
              "      <td>Black, Tan</td>\n",
              "      <td>22-26</td>\n",
              "      <td>Brown</td>\n",
              "      <td>7-10</td>\n",
              "      <td>Loyal, intelligent, protective, confident, tra...</td>\n",
              "      <td>Hip dysplasia, elbow dysplasia, pancreatitis</td>\n",
              "    </tr>\n",
              "    <tr>\n",
              "      <th>2</th>\n",
              "      <td>Bulldog</td>\n",
              "      <td>England</td>\n",
              "      <td>White, Red</td>\n",
              "      <td>12-16</td>\n",
              "      <td>Brown</td>\n",
              "      <td>8-10</td>\n",
              "      <td>Loyal, calm, gentle, brave</td>\n",
              "      <td>Skin allergies, respiratory issues, obesity</td>\n",
              "    </tr>\n",
              "    <tr>\n",
              "      <th>3</th>\n",
              "      <td>Poodle</td>\n",
              "      <td>France</td>\n",
              "      <td>White, Black, Brown, Apricot</td>\n",
              "      <td>10-15</td>\n",
              "      <td>Brown, Blue</td>\n",
              "      <td>12-15</td>\n",
              "      <td>Intelligent, active, affectionate, hypoallergenic</td>\n",
              "      <td>Hip dysplasia, epilepsy, bladder stones</td>\n",
              "    </tr>\n",
              "    <tr>\n",
              "      <th>4</th>\n",
              "      <td>Beagle</td>\n",
              "      <td>England</td>\n",
              "      <td>White, Tan, Red, Lemon</td>\n",
              "      <td>13-15</td>\n",
              "      <td>Brown</td>\n",
              "      <td>12-15</td>\n",
              "      <td>Curious, friendly, energetic, good-natured</td>\n",
              "      <td>Ear infections, hip dysplasia, epilepsy</td>\n",
              "    </tr>\n",
              "  </tbody>\n",
              "</table>\n",
              "</div>\n",
              "      <button class=\"colab-df-convert\" onclick=\"convertToInteractive('df-5cd0ad99-23f1-4b5d-b3e8-230225d0bbc9')\"\n",
              "              title=\"Convert this dataframe to an interactive table.\"\n",
              "              style=\"display:none;\">\n",
              "        \n",
              "  <svg xmlns=\"http://www.w3.org/2000/svg\" height=\"24px\"viewBox=\"0 0 24 24\"\n",
              "       width=\"24px\">\n",
              "    <path d=\"M0 0h24v24H0V0z\" fill=\"none\"/>\n",
              "    <path d=\"M18.56 5.44l.94 2.06.94-2.06 2.06-.94-2.06-.94-.94-2.06-.94 2.06-2.06.94zm-11 1L8.5 8.5l.94-2.06 2.06-.94-2.06-.94L8.5 2.5l-.94 2.06-2.06.94zm10 10l.94 2.06.94-2.06 2.06-.94-2.06-.94-.94-2.06-.94 2.06-2.06.94z\"/><path d=\"M17.41 7.96l-1.37-1.37c-.4-.4-.92-.59-1.43-.59-.52 0-1.04.2-1.43.59L10.3 9.45l-7.72 7.72c-.78.78-.78 2.05 0 2.83L4 21.41c.39.39.9.59 1.41.59.51 0 1.02-.2 1.41-.59l7.78-7.78 2.81-2.81c.8-.78.8-2.07 0-2.86zM5.41 20L4 18.59l7.72-7.72 1.47 1.35L5.41 20z\"/>\n",
              "  </svg>\n",
              "      </button>\n",
              "      \n",
              "  <style>\n",
              "    .colab-df-container {\n",
              "      display:flex;\n",
              "      flex-wrap:wrap;\n",
              "      gap: 12px;\n",
              "    }\n",
              "\n",
              "    .colab-df-convert {\n",
              "      background-color: #E8F0FE;\n",
              "      border: none;\n",
              "      border-radius: 50%;\n",
              "      cursor: pointer;\n",
              "      display: none;\n",
              "      fill: #1967D2;\n",
              "      height: 32px;\n",
              "      padding: 0 0 0 0;\n",
              "      width: 32px;\n",
              "    }\n",
              "\n",
              "    .colab-df-convert:hover {\n",
              "      background-color: #E2EBFA;\n",
              "      box-shadow: 0px 1px 2px rgba(60, 64, 67, 0.3), 0px 1px 3px 1px rgba(60, 64, 67, 0.15);\n",
              "      fill: #174EA6;\n",
              "    }\n",
              "\n",
              "    [theme=dark] .colab-df-convert {\n",
              "      background-color: #3B4455;\n",
              "      fill: #D2E3FC;\n",
              "    }\n",
              "\n",
              "    [theme=dark] .colab-df-convert:hover {\n",
              "      background-color: #434B5C;\n",
              "      box-shadow: 0px 1px 3px 1px rgba(0, 0, 0, 0.15);\n",
              "      filter: drop-shadow(0px 1px 2px rgba(0, 0, 0, 0.3));\n",
              "      fill: #FFFFFF;\n",
              "    }\n",
              "  </style>\n",
              "\n",
              "      <script>\n",
              "        const buttonEl =\n",
              "          document.querySelector('#df-5cd0ad99-23f1-4b5d-b3e8-230225d0bbc9 button.colab-df-convert');\n",
              "        buttonEl.style.display =\n",
              "          google.colab.kernel.accessAllowed ? 'block' : 'none';\n",
              "\n",
              "        async function convertToInteractive(key) {\n",
              "          const element = document.querySelector('#df-5cd0ad99-23f1-4b5d-b3e8-230225d0bbc9');\n",
              "          const dataTable =\n",
              "            await google.colab.kernel.invokeFunction('convertToInteractive',\n",
              "                                                     [key], {});\n",
              "          if (!dataTable) return;\n",
              "\n",
              "          const docLinkHtml = 'Like what you see? Visit the ' +\n",
              "            '<a target=\"_blank\" href=https://colab.research.google.com/notebooks/data_table.ipynb>data table notebook</a>'\n",
              "            + ' to learn more about interactive tables.';\n",
              "          element.innerHTML = '';\n",
              "          dataTable['output_type'] = 'display_data';\n",
              "          await google.colab.output.renderOutput(dataTable, element);\n",
              "          const docLink = document.createElement('div');\n",
              "          docLink.innerHTML = docLinkHtml;\n",
              "          element.appendChild(docLink);\n",
              "        }\n",
              "      </script>\n",
              "    </div>\n",
              "  </div>\n",
              "  "
            ]
          },
          "metadata": {},
          "execution_count": 738
        }
      ]
    },
    {
      "cell_type": "markdown",
      "source": [
        "# **Data Preprocessing**\n"
      ],
      "metadata": {
        "id": "iaBOyphlXV9M"
      }
    },
    {
      "cell_type": "code",
      "source": [
        "# Check missing value\n",
        "data.isna().sum()"
      ],
      "metadata": {
        "colab": {
          "base_uri": "https://localhost:8080/"
        },
        "id": "fpeqH6SjXVgW",
        "outputId": "ebd15e76-3f36-4da5-eaef-3588a9f2c3f3"
      },
      "execution_count": 739,
      "outputs": [
        {
          "output_type": "execute_result",
          "data": {
            "text/plain": [
              "Breed                     0\n",
              "Country of Origin         0\n",
              "Fur Color                 0\n",
              "Height (in)               0\n",
              "Color of Eyes             0\n",
              "Longevity (yrs)           0\n",
              "Character Traits          0\n",
              "Common Health Problems    0\n",
              "dtype: int64"
            ]
          },
          "metadata": {},
          "execution_count": 739
        }
      ]
    },
    {
      "cell_type": "code",
      "source": [
        "# Check duplicate value\n",
        "data.duplicated().sum()"
      ],
      "metadata": {
        "colab": {
          "base_uri": "https://localhost:8080/"
        },
        "id": "y8d-FvA4Xfcu",
        "outputId": "e893ce86-022c-46d7-f427-b00b027ff9de"
      },
      "execution_count": 740,
      "outputs": [
        {
          "output_type": "execute_result",
          "data": {
            "text/plain": [
              "0"
            ]
          },
          "metadata": {},
          "execution_count": 740
        }
      ]
    },
    {
      "cell_type": "code",
      "source": [
        "# Country of Origin\n",
        "print(data['Country of Origin'].unique())\n",
        "data.loc[data['Country of Origin']=='Tibet']\n",
        "data['Country of Origin'].replace('Tibet','China',inplace = True)"
      ],
      "metadata": {
        "colab": {
          "base_uri": "https://localhost:8080/"
        },
        "id": "xkJXOEIOXqRd",
        "outputId": "17549b5c-f4ba-4847-da6e-6a1330ceb0fb"
      },
      "execution_count": 741,
      "outputs": [
        {
          "output_type": "stream",
          "name": "stdout",
          "text": [
            "['Canada' 'Germany' 'England' 'France' 'Mexico' 'Scotland' 'China'\n",
            " 'Russia' 'Australia' 'Switzerland' 'Ireland' 'Belgium' 'Rhodesia'\n",
            " 'United States' 'Madagascar' 'Italy' 'Wales' 'Middle East' 'Finland'\n",
            " 'Japan' 'Netherlands' 'Hungary' 'Tibet' 'Malta' 'Turkey' 'Africa' 'Congo']\n"
          ]
        }
      ]
    },
    {
      "cell_type": "code",
      "source": [
        "# Encode charater traits\n",
        "# Change all the elements in lowercase to avoid duplicate\n",
        "data['Character Traits'] = data['Character Traits'].str.lower()\n",
        "character = [] \n",
        "# put all the charater for each breed into list separated by ','\n",
        "for i in data['Character Traits']:\n",
        "  i = i.split(\",\")\n",
        "  for j in range(len(i)):\n",
        "    i[j] = i [j].strip()\n",
        "  character.append(i)\n",
        "\n",
        "# Get the column names (unique value of the list)\n",
        "character_cate = set() \n",
        "for i in character:\n",
        "  for j in i:\n",
        "    j = j.strip() # remove space to avoid duplicates\n",
        "    character_cate.add(j)\n",
        "print(character_cate) \n",
        "\n",
        "# update the `Character Traits` column\n",
        "data['Character Traits'] = character\n",
        "# unlist each\n",
        "data['Character Traits'] = data['Character Traits'].apply(lambda x: ','.join(dict.fromkeys(x).keys()))\n",
        "# Create new columns\n",
        "for value in character_cate:\n",
        "  data[value] = data['Character Traits'].apply(lambda x: 1 if value in x else 0)"
      ],
      "metadata": {
        "colab": {
          "base_uri": "https://localhost:8080/"
        },
        "id": "nN0kZq5UePNQ",
        "outputId": "01da42e2-2547-45ad-92e4-208ebcb0d135"
      },
      "execution_count": 742,
      "outputs": [
        {
          "output_type": "stream",
          "name": "stdout",
          "text": [
            "{'kind', 'calm', 'gentle', 'protective', 'energetic', 'friendly', 'good-natured', 'athletic', 'active', 'strong', 'sensitive', 'loyal', 'trainable', 'playful', 'independent', 'curious', 'confident', 'affectionate', 'brave', 'social', 'hypoallergenic', 'intelligent', 'patient', 'charming'}\n"
          ]
        }
      ]
    },
    {
      "cell_type": "code",
      "source": [
        "# Encode the `Common Health Problems`\n",
        "data['Common Health Problems'] = data['Common Health Problems'].str.lower()\n",
        "health_problem = []\n",
        "for i in data['Common Health Problems']:\n",
        "  health_problem.append(i.split(','))\n",
        "\n",
        "for j in health_problem:\n",
        "  for k in range(len(j)):\n",
        "    j[k] = j[k].strip()# remove the space before and behind the word\n",
        "    if j[k] == 'eye issues':# The eye issues are the same as eye problems\n",
        "      j[k] = 'eye problems'\n",
        "health_problem\n",
        "# update the `Common Health Problems`\n",
        "data['Common Health Problems'] = health_problem \n",
        "data['Common Health Problems'] = data['Common Health Problems'].apply(lambda x: ','.join(dict.fromkeys(x).keys()))\n",
        "# Get the column names\n",
        "health_prob_cate = set()\n",
        "for i in health_problem:\n",
        "  for j in i:\n",
        "    health_prob_cate.add(j)\n",
        "# Encode the new columns\n",
        "for value in health_prob_cate:\n",
        "  data[value] = data['Common Health Problems'].apply(lambda x: 1 if value in x else 0)"
      ],
      "metadata": {
        "id": "3Cy0oFCwlaSU"
      },
      "execution_count": 743,
      "outputs": []
    },
    {
      "cell_type": "code",
      "source": [
        "# Country of Origin\n",
        "from sklearn.preprocessing import OrdinalEncoder\n",
        "ord = OrdinalEncoder()\n",
        "data['Country_encode'] = ord.fit_transform(data[['Country of Origin']])\n",
        "data['Country_encode']"
      ],
      "metadata": {
        "colab": {
          "base_uri": "https://localhost:8080/"
        },
        "id": "IDs_uoQQHeAv",
        "outputId": "e9053269-affa-4613-98ec-0a7caa20c83f"
      },
      "execution_count": 744,
      "outputs": [
        {
          "output_type": "execute_result",
          "data": {
            "text/plain": [
              "0       3.0\n",
              "1       9.0\n",
              "2       6.0\n",
              "3       8.0\n",
              "4       6.0\n",
              "       ... \n",
              "112    24.0\n",
              "113     6.0\n",
              "114    13.0\n",
              "115     2.0\n",
              "116    15.0\n",
              "Name: Country_encode, Length: 117, dtype: float64"
            ]
          },
          "metadata": {},
          "execution_count": 744
        }
      ]
    },
    {
      "cell_type": "markdown",
      "source": [
        "# **EDA**"
      ],
      "metadata": {
        "id": "vMCI3er2oJEU"
      }
    },
    {
      "cell_type": "markdown",
      "source": [
        "`Character traits` of dogs:\n",
        "Top 10 characteristics that dogs have. \n",
        "\n",
        "\n",
        "\n",
        "\n",
        "\n",
        "\n",
        "\n"
      ],
      "metadata": {
        "id": "SYag2yzIoZN_"
      }
    },
    {
      "cell_type": "code",
      "source": [
        "occurance ={}\n",
        "count = 0\n",
        "\n",
        "for i in character:\n",
        "  for j in i:\n",
        "    occurance[j] = count\n",
        "  count+=1\n",
        "occurance\n",
        "\n",
        "character_df = pd.DataFrame.from_dict(occurance,orient ='index')\n",
        "character_df.reset_index(inplace = True)\n",
        "character_df.columns =['character','occurance']\n",
        " # Add percentage\n",
        "character_df['percentage'] = character_df['occurance']/len(data)\n",
        "# Top 10 most common characters that dogs have\n",
        "character_df = character_df.sort_values('percentage',ascending = False)\n",
        "print(character_df[:10])\n",
        "# visualization\n",
        "sns.barplot(x = 'character', y = 'percentage', data = character_df[:10],\n",
        "            palette = 'BuGn_r')\n",
        "plt.ylim(0.0,1, 0.1)\n",
        "plt.xticks(rotation = 90)"
      ],
      "metadata": {
        "colab": {
          "base_uri": "https://localhost:8080/",
          "height": 582
        },
        "id": "yJmvspslX6Y0",
        "outputId": "76d5891a-772f-4fb9-af13-821f6aeb3ff0"
      },
      "execution_count": 745,
      "outputs": [
        {
          "output_type": "stream",
          "name": "stdout",
          "text": [
            "         character  occurance  percentage\n",
            "0            loyal        116    0.991453\n",
            "2      intelligent        116    0.991453\n",
            "3        energetic        116    0.991453\n",
            "4     good-natured        116    0.991453\n",
            "16         playful        114    0.974359\n",
            "9           gentle         65    0.555556\n",
            "12    affectionate         46    0.393162\n",
            "13  hypoallergenic         41    0.350427\n",
            "11          active         41    0.350427\n",
            "21     independent         38    0.324786\n"
          ]
        },
        {
          "output_type": "execute_result",
          "data": {
            "text/plain": [
              "(array([0, 1, 2, 3, 4, 5, 6, 7, 8, 9]),\n",
              " <a list of 10 Text major ticklabel objects>)"
            ]
          },
          "metadata": {},
          "execution_count": 745
        },
        {
          "output_type": "display_data",
          "data": {
            "text/plain": [
              "<Figure size 432x288 with 1 Axes>"
            ],
            "image/png": "[encoded data removed]"
          },
          "metadata": {
            "needs_background": "light"
          }
        }
      ]
    },
    {
      "cell_type": "markdown",
      "source": [
        "99% breeds of dogs are loyal, intelligent,energetic, good-natured."
      ],
      "metadata": {
        "id": "q9SicoI6W-C7"
      }
    },
    {
      "cell_type": "markdown",
      "source": [
        "Contry distribution"
      ],
      "metadata": {
        "id": "55VshhVZk4nW"
      }
    },
    {
      "cell_type": "code",
      "source": [
        "sns.barplot(x = data['Country of Origin'].unique(), \n",
        "            y = data['Country of Origin'].value_counts(),\n",
        "            palette = 'cubehelix')\n",
        "plt.xticks(rotation = 90)"
      ],
      "metadata": {
        "colab": {
          "base_uri": "https://localhost:8080/",
          "height": 379
        },
        "id": "Z34yFa-CZ2N1",
        "outputId": "0d6c37b5-d8f8-4b89-af68-4a4bd80461c1"
      },
      "execution_count": 826,
      "outputs": [
        {
          "output_type": "execute_result",
          "data": {
            "text/plain": [
              "(array([ 0,  1,  2,  3,  4,  5,  6,  7,  8,  9, 10, 11, 12, 13, 14, 15, 16,\n",
              "        17, 18, 19, 20, 21, 22, 23, 24, 25]),\n",
              " <a list of 26 Text major ticklabel objects>)"
            ]
          },
          "metadata": {},
          "execution_count": 826
        },
        {
          "output_type": "display_data",
          "data": {
            "text/plain": [
              "<Figure size 432x288 with 1 Axes>"
            ],
            "image/png": "[encoded data removed]"
          },
          "metadata": {
            "needs_background": "light"
          }
        }
      ]
    },
    {
      "cell_type": "markdown",
      "source": [
        "Both `Longevity` and `height` are the range of number. Averges are used in the analysis."
      ],
      "metadata": {
        "id": "gHw8aOIQZ3ag"
      }
    },
    {
      "cell_type": "code",
      "source": [
        "# Calculate the average longevity of each breed\n",
        "\n",
        "# Change the column names\n",
        "data = data.rename(columns = {'Longevity (yrs)':'longevity'})\n",
        "data= data.rename(columns = {'Height (in)':'Height'})\n",
        "longevity = []\n",
        "height = []\n",
        "for i in data['longevity']:\n",
        "  longevity.append(i.split('-'))\n",
        "avg_longevity =[]\n",
        "for i in range(len(longevity)):\n",
        "  avg_longevity.append((int(longevity[i][0])+(int(longevity[i][1]))/2))\n",
        "data['avg_longevity'] = avg_longevity\n",
        "# Calculate the average height for each breed\n",
        "for i in data['Height']:\n",
        "  height.append(i.split('-'))\n",
        "avg_height =[]\n",
        "for i in range(len(height)):\n",
        "  avg_height.append((int(height[i][0])+(int(height[i][1]))/2))\n",
        "data['avg_height'] = avg_height"
      ],
      "metadata": {
        "id": "mPQIfaw8pLcp"
      },
      "execution_count": 746,
      "outputs": []
    },
    {
      "cell_type": "markdown",
      "source": [
        "The top 10 most common health problems that dogs get"
      ],
      "metadata": {
        "id": "oyRffHWlaL4P"
      }
    },
    {
      "cell_type": "code",
      "source": [
        "occurance ={}\n",
        "count = 0\n",
        "\n",
        "for i in health_problem:\n",
        "  for j in i:\n",
        "    occurance[j] = count\n",
        "  count+=1\n",
        "\n",
        "health_prob_df = pd.DataFrame.from_dict(occurance,orient ='index')\n",
        "health_prob_df.reset_index(inplace = True)\n",
        "health_prob_df.columns =['problem','occurance']\n",
        "print(\"the total number of health problem is: \" + str(len(health_prob_df)))\n",
        "health_prob_df.sort_values('occurance',ascending = False).head(5)"
      ],
      "metadata": {
        "colab": {
          "base_uri": "https://localhost:8080/",
          "height": 224
        },
        "id": "wPtFMydHpIOM",
        "outputId": "9b43217c-8008-437d-f2aa-458bac8426c8"
      },
      "execution_count": 827,
      "outputs": [
        {
          "output_type": "stream",
          "name": "stdout",
          "text": [
            "the total number of health problem is: 17\n"
          ]
        },
        {
          "output_type": "execute_result",
          "data": {
            "text/plain": [
              "               problem  occurance\n",
              "9      dental problems        116\n",
              "10        eye problems        116\n",
              "5       skin allergies        116\n",
              "0        hip dysplasia         64\n",
              "6   respiratory issues         55"
            ],
            "text/html": [
              "\n",
              "  <div id=\"df-0dbc3579-07dc-4623-84cb-54a1a5b6190c\">\n",
              "    <div class=\"colab-df-container\">\n",
              "      <div>\n",
              "<style scoped>\n",
              "    .dataframe tbody tr th:only-of-type {\n",
              "        vertical-align: middle;\n",
              "    }\n",
              "\n",
              "    .dataframe tbody tr th {\n",
              "        vertical-align: top;\n",
              "    }\n",
              "\n",
              "    .dataframe thead th {\n",
              "        text-align: right;\n",
              "    }\n",
              "</style>\n",
              "<table border=\"1\" class=\"dataframe\">\n",
              "  <thead>\n",
              "    <tr style=\"text-align: right;\">\n",
              "      <th></th>\n",
              "      <th>problem</th>\n",
              "      <th>occurance</th>\n",
              "    </tr>\n",
              "  </thead>\n",
              "  <tbody>\n",
              "    <tr>\n",
              "      <th>9</th>\n",
              "      <td>dental problems</td>\n",
              "      <td>116</td>\n",
              "    </tr>\n",
              "    <tr>\n",
              "      <th>10</th>\n",
              "      <td>eye problems</td>\n",
              "      <td>116</td>\n",
              "    </tr>\n",
              "    <tr>\n",
              "      <th>5</th>\n",
              "      <td>skin allergies</td>\n",
              "      <td>116</td>\n",
              "    </tr>\n",
              "    <tr>\n",
              "      <th>0</th>\n",
              "      <td>hip dysplasia</td>\n",
              "      <td>64</td>\n",
              "    </tr>\n",
              "    <tr>\n",
              "      <th>6</th>\n",
              "      <td>respiratory issues</td>\n",
              "      <td>55</td>\n",
              "    </tr>\n",
              "  </tbody>\n",
              "</table>\n",
              "</div>\n",
              "      <button class=\"colab-df-convert\" onclick=\"convertToInteractive('df-0dbc3579-07dc-4623-84cb-54a1a5b6190c')\"\n",
              "              title=\"Convert this dataframe to an interactive table.\"\n",
              "              style=\"display:none;\">\n",
              "        \n",
              "  <svg xmlns=\"http://www.w3.org/2000/svg\" height=\"24px\"viewBox=\"0 0 24 24\"\n",
              "       width=\"24px\">\n",
              "    <path d=\"M0 0h24v24H0V0z\" fill=\"none\"/>\n",
              "    <path d=\"M18.56 5.44l.94 2.06.94-2.06 2.06-.94-2.06-.94-.94-2.06-.94 2.06-2.06.94zm-11 1L8.5 8.5l.94-2.06 2.06-.94-2.06-.94L8.5 2.5l-.94 2.06-2.06.94zm10 10l.94 2.06.94-2.06 2.06-.94-2.06-.94-.94-2.06-.94 2.06-2.06.94z\"/><path d=\"M17.41 7.96l-1.37-1.37c-.4-.4-.92-.59-1.43-.59-.52 0-1.04.2-1.43.59L10.3 9.45l-7.72 7.72c-.78.78-.78 2.05 0 2.83L4 21.41c.39.39.9.59 1.41.59.51 0 1.02-.2 1.41-.59l7.78-7.78 2.81-2.81c.8-.78.8-2.07 0-2.86zM5.41 20L4 18.59l7.72-7.72 1.47 1.35L5.41 20z\"/>\n",
              "  </svg>\n",
              "      </button>\n",
              "      \n",
              "  <style>\n",
              "    .colab-df-container {\n",
              "      display:flex;\n",
              "      flex-wrap:wrap;\n",
              "      gap: 12px;\n",
              "    }\n",
              "\n",
              "    .colab-df-convert {\n",
              "      background-color: #E8F0FE;\n",
              "      border: none;\n",
              "      border-radius: 50%;\n",
              "      cursor: pointer;\n",
              "      display: none;\n",
              "      fill: #1967D2;\n",
              "      height: 32px;\n",
              "      padding: 0 0 0 0;\n",
              "      width: 32px;\n",
              "    }\n",
              "\n",
              "    .colab-df-convert:hover {\n",
              "      background-color: #E2EBFA;\n",
              "      box-shadow: 0px 1px 2px rgba(60, 64, 67, 0.3), 0px 1px 3px 1px rgba(60, 64, 67, 0.15);\n",
              "      fill: #174EA6;\n",
              "    }\n",
              "\n",
              "    [theme=dark] .colab-df-convert {\n",
              "      background-color: #3B4455;\n",
              "      fill: #D2E3FC;\n",
              "    }\n",
              "\n",
              "    [theme=dark] .colab-df-convert:hover {\n",
              "      background-color: #434B5C;\n",
              "      box-shadow: 0px 1px 3px 1px rgba(0, 0, 0, 0.15);\n",
              "      filter: drop-shadow(0px 1px 2px rgba(0, 0, 0, 0.3));\n",
              "      fill: #FFFFFF;\n",
              "    }\n",
              "  </style>\n",
              "\n",
              "      <script>\n",
              "        const buttonEl =\n",
              "          document.querySelector('#df-0dbc3579-07dc-4623-84cb-54a1a5b6190c button.colab-df-convert');\n",
              "        buttonEl.style.display =\n",
              "          google.colab.kernel.accessAllowed ? 'block' : 'none';\n",
              "\n",
              "        async function convertToInteractive(key) {\n",
              "          const element = document.querySelector('#df-0dbc3579-07dc-4623-84cb-54a1a5b6190c');\n",
              "          const dataTable =\n",
              "            await google.colab.kernel.invokeFunction('convertToInteractive',\n",
              "                                                     [key], {});\n",
              "          if (!dataTable) return;\n",
              "\n",
              "          const docLinkHtml = 'Like what you see? Visit the ' +\n",
              "            '<a target=\"_blank\" href=https://colab.research.google.com/notebooks/data_table.ipynb>data table notebook</a>'\n",
              "            + ' to learn more about interactive tables.';\n",
              "          element.innerHTML = '';\n",
              "          dataTable['output_type'] = 'display_data';\n",
              "          await google.colab.output.renderOutput(dataTable, element);\n",
              "          const docLink = document.createElement('div');\n",
              "          docLink.innerHTML = docLinkHtml;\n",
              "          element.appendChild(docLink);\n",
              "        }\n",
              "      </script>\n",
              "    </div>\n",
              "  </div>\n",
              "  "
            ]
          },
          "metadata": {},
          "execution_count": 827
        }
      ]
    },
    {
      "cell_type": "code",
      "source": [
        "# get the percentage\n",
        "len(data)\n",
        "# 117 breed dogs\n",
        "health_prob_df['percentage'] = health_prob_df['occurance']/len(data)\n",
        "health_prob_df = health_prob_df.sort_values('percentage',ascending =False)"
      ],
      "metadata": {
        "id": "dMvDEJh6zTxj"
      },
      "execution_count": 748,
      "outputs": []
    },
    {
      "cell_type": "markdown",
      "source": [
        "There are total of 22 health problems that dogs have. Among 117 dog breeds, 99.1% dog breeds have highly risk to get dental problems, eye problems, and skin allergies."
      ],
      "metadata": {
        "id": "6C88cD-M0mzb"
      }
    },
    {
      "cell_type": "code",
      "source": [
        "# Top 10 health problems\n",
        "print(health_prob_df[:10])\n",
        "ax = sns.barplot(x ='problem', y ='percentage', data = health_prob_df[:10], \n",
        "            order = health_prob_df[:10].sort_values('percentage',ascending =False).problem,\n",
        "            palette = 'BuGn_r')\n",
        "plt.xticks(rotation =90)"
      ],
      "metadata": {
        "colab": {
          "base_uri": "https://localhost:8080/",
          "height": 593
        },
        "id": "0mHh6EK_2iso",
        "outputId": "9bedb12e-3e32-4806-8b5a-2a3b8e068d28"
      },
      "execution_count": 749,
      "outputs": [
        {
          "output_type": "stream",
          "name": "stdout",
          "text": [
            "               problem  occurance  percentage\n",
            "9      dental problems        116    0.991453\n",
            "10        eye problems        116    0.991453\n",
            "5       skin allergies        116    0.991453\n",
            "0        hip dysplasia         64    0.547009\n",
            "6   respiratory issues         55    0.470085\n",
            "15            diabetes         48    0.410256\n",
            "4         pancreatitis         48    0.410256\n",
            "8       bladder stones         41    0.350427\n",
            "7             epilepsy         41    0.350427\n",
            "11              cancer         36    0.307692\n"
          ]
        },
        {
          "output_type": "execute_result",
          "data": {
            "text/plain": [
              "(array([0, 1, 2, 3, 4, 5, 6, 7, 8, 9]),\n",
              " <a list of 10 Text major ticklabel objects>)"
            ]
          },
          "metadata": {},
          "execution_count": 749
        },
        {
          "output_type": "display_data",
          "data": {
            "text/plain": [
              "<Figure size 432x288 with 1 Axes>"
            ],
            "image/png": "[encoded data removed]"
          },
          "metadata": {
            "needs_background": "light"
          }
        }
      ]
    },
    {
      "cell_type": "markdown",
      "source": [
        "Basic information:\n",
        "1. Average dog ages\n",
        "1. Top 5 breeds that have longer lifespans\n",
        "2. Top 5 breeds that have less health issues"
      ],
      "metadata": {
        "id": "lpEE62Z77zd6"
      }
    },
    {
      "cell_type": "code",
      "source": [
        "data['avg_longevity']\n",
        "sub_lifespan = data[['Breed','avg_longevity']]\n",
        "# 1. information about lifespan.\n",
        "print(str(sub_lifespan.Breed[sub_lifespan['avg_longevity'].min()]) + \n",
        "      str(' has the shortest lifespans compared to all other breeds, which is ')+\n",
        "      str(int(sub_lifespan['avg_longevity'].min())) +\n",
        "      \" years old.\")\n",
        "\n",
        "print(str(sub_lifespan.Breed[sub_lifespan['avg_longevity'].max()]) +\n",
        "      \" has longest lifespan compared to all other breeds, which is \"+ \n",
        "      str(int(sub_lifespan['avg_longevity'].max())) +\n",
        "      ' years old.')\n",
        "\n",
        "print(str(\"the average dog lifespan is \") + \n",
        "      str(int(sub_lifespan['avg_longevity'].mean())) + \n",
        "      str(' years old.'))\n",
        "\n",
        "# Look at the boxplot: \n",
        "sns.boxplot(y = 'avg_longevity', data = sub_lifespan,\n",
        "             showmeans=True,\n",
        "            meanprops={\"marker\": \"+\",\n",
        "                       \"markeredgecolor\": \"black\",\n",
        "                       \"markersize\": \"15\"})\n",
        "plt.show()\n",
        "\n",
        "# # 1. Top 5 breeds that has longer lifespans \n",
        "sub_lifespan = sub_lifespan.sort_values('Breed',ascending = False)\n",
        "sub_lifespan_top = sub_lifespan[:5]\n",
        "sub_lifespan_top\n"
      ],
      "metadata": {
        "colab": {
          "base_uri": "https://localhost:8080/",
          "height": 495
        },
        "id": "zUBcNClO7yTO",
        "outputId": "0a45afe5-3c2c-4209-f349-d008e6d25373"
      },
      "execution_count": 750,
      "outputs": [
        {
          "output_type": "stream",
          "name": "stdout",
          "text": [
            "Siberian Husky has the shortest lifespans compared to all other breeds, which is 10 years old.\n",
            "Saint Bernard has longest lifespan compared to all other breeds, which is 22 years old.\n",
            "the average dog lifespan is 18 years old.\n"
          ]
        },
        {
          "output_type": "display_data",
          "data": {
            "text/plain": [
              "<Figure size 432x288 with 1 Axes>"
            ],
            "image/png": "[encoded data removed]"
          },
          "metadata": {
            "needs_background": "light"
          }
        },
        {
          "output_type": "execute_result",
          "data": {
            "text/plain": [
              "                           Breed  avg_longevity\n",
              "108            Yorkshire Terrier           19.5\n",
              "107               Xoloitzcuintli           19.5\n",
              "106  Wirehaired Pointing Griffon           19.0\n",
              "105                      Whippet           19.5\n",
              "49   West Highland White Terrier           20.0"
            ],
            "text/html": [
              "\n",
              "  <div id=\"df-6733d6a4-9abb-4138-8016-a049f73dea6e\">\n",
              "    <div class=\"colab-df-container\">\n",
              "      <div>\n",
              "<style scoped>\n",
              "    .dataframe tbody tr th:only-of-type {\n",
              "        vertical-align: middle;\n",
              "    }\n",
              "\n",
              "    .dataframe tbody tr th {\n",
              "        vertical-align: top;\n",
              "    }\n",
              "\n",
              "    .dataframe thead th {\n",
              "        text-align: right;\n",
              "    }\n",
              "</style>\n",
              "<table border=\"1\" class=\"dataframe\">\n",
              "  <thead>\n",
              "    <tr style=\"text-align: right;\">\n",
              "      <th></th>\n",
              "      <th>Breed</th>\n",
              "      <th>avg_longevity</th>\n",
              "    </tr>\n",
              "  </thead>\n",
              "  <tbody>\n",
              "    <tr>\n",
              "      <th>108</th>\n",
              "      <td>Yorkshire Terrier</td>\n",
              "      <td>19.5</td>\n",
              "    </tr>\n",
              "    <tr>\n",
              "      <th>107</th>\n",
              "      <td>Xoloitzcuintli</td>\n",
              "      <td>19.5</td>\n",
              "    </tr>\n",
              "    <tr>\n",
              "      <th>106</th>\n",
              "      <td>Wirehaired Pointing Griffon</td>\n",
              "      <td>19.0</td>\n",
              "    </tr>\n",
              "    <tr>\n",
              "      <th>105</th>\n",
              "      <td>Whippet</td>\n",
              "      <td>19.5</td>\n",
              "    </tr>\n",
              "    <tr>\n",
              "      <th>49</th>\n",
              "      <td>West Highland White Terrier</td>\n",
              "      <td>20.0</td>\n",
              "    </tr>\n",
              "  </tbody>\n",
              "</table>\n",
              "</div>\n",
              "      <button class=\"colab-df-convert\" onclick=\"convertToInteractive('df-6733d6a4-9abb-4138-8016-a049f73dea6e')\"\n",
              "              title=\"Convert this dataframe to an interactive table.\"\n",
              "              style=\"display:none;\">\n",
              "        \n",
              "  <svg xmlns=\"http://www.w3.org/2000/svg\" height=\"24px\"viewBox=\"0 0 24 24\"\n",
              "       width=\"24px\">\n",
              "    <path d=\"M0 0h24v24H0V0z\" fill=\"none\"/>\n",
              "    <path d=\"M18.56 5.44l.94 2.06.94-2.06 2.06-.94-2.06-.94-.94-2.06-.94 2.06-2.06.94zm-11 1L8.5 8.5l.94-2.06 2.06-.94-2.06-.94L8.5 2.5l-.94 2.06-2.06.94zm10 10l.94 2.06.94-2.06 2.06-.94-2.06-.94-.94-2.06-.94 2.06-2.06.94z\"/><path d=\"M17.41 7.96l-1.37-1.37c-.4-.4-.92-.59-1.43-.59-.52 0-1.04.2-1.43.59L10.3 9.45l-7.72 7.72c-.78.78-.78 2.05 0 2.83L4 21.41c.39.39.9.59 1.41.59.51 0 1.02-.2 1.41-.59l7.78-7.78 2.81-2.81c.8-.78.8-2.07 0-2.86zM5.41 20L4 18.59l7.72-7.72 1.47 1.35L5.41 20z\"/>\n",
              "  </svg>\n",
              "      </button>\n",
              "      \n",
              "  <style>\n",
              "    .colab-df-container {\n",
              "      display:flex;\n",
              "      flex-wrap:wrap;\n",
              "      gap: 12px;\n",
              "    }\n",
              "\n",
              "    .colab-df-convert {\n",
              "      background-color: #E8F0FE;\n",
              "      border: none;\n",
              "      border-radius: 50%;\n",
              "      cursor: pointer;\n",
              "      display: none;\n",
              "      fill: #1967D2;\n",
              "      height: 32px;\n",
              "      padding: 0 0 0 0;\n",
              "      width: 32px;\n",
              "    }\n",
              "\n",
              "    .colab-df-convert:hover {\n",
              "      background-color: #E2EBFA;\n",
              "      box-shadow: 0px 1px 2px rgba(60, 64, 67, 0.3), 0px 1px 3px 1px rgba(60, 64, 67, 0.15);\n",
              "      fill: #174EA6;\n",
              "    }\n",
              "\n",
              "    [theme=dark] .colab-df-convert {\n",
              "      background-color: #3B4455;\n",
              "      fill: #D2E3FC;\n",
              "    }\n",
              "\n",
              "    [theme=dark] .colab-df-convert:hover {\n",
              "      background-color: #434B5C;\n",
              "      box-shadow: 0px 1px 3px 1px rgba(0, 0, 0, 0.15);\n",
              "      filter: drop-shadow(0px 1px 2px rgba(0, 0, 0, 0.3));\n",
              "      fill: #FFFFFF;\n",
              "    }\n",
              "  </style>\n",
              "\n",
              "      <script>\n",
              "        const buttonEl =\n",
              "          document.querySelector('#df-6733d6a4-9abb-4138-8016-a049f73dea6e button.colab-df-convert');\n",
              "        buttonEl.style.display =\n",
              "          google.colab.kernel.accessAllowed ? 'block' : 'none';\n",
              "\n",
              "        async function convertToInteractive(key) {\n",
              "          const element = document.querySelector('#df-6733d6a4-9abb-4138-8016-a049f73dea6e');\n",
              "          const dataTable =\n",
              "            await google.colab.kernel.invokeFunction('convertToInteractive',\n",
              "                                                     [key], {});\n",
              "          if (!dataTable) return;\n",
              "\n",
              "          const docLinkHtml = 'Like what you see? Visit the ' +\n",
              "            '<a target=\"_blank\" href=https://colab.research.google.com/notebooks/data_table.ipynb>data table notebook</a>'\n",
              "            + ' to learn more about interactive tables.';\n",
              "          element.innerHTML = '';\n",
              "          dataTable['output_type'] = 'display_data';\n",
              "          await google.colab.output.renderOutput(dataTable, element);\n",
              "          const docLink = document.createElement('div');\n",
              "          docLink.innerHTML = docLinkHtml;\n",
              "          element.appendChild(docLink);\n",
              "        }\n",
              "      </script>\n",
              "    </div>\n",
              "  </div>\n",
              "  "
            ]
          },
          "metadata": {},
          "execution_count": 750
        }
      ]
    },
    {
      "cell_type": "markdown",
      "source": [
        "**Linear Regression Analysis--> Target: Longevity**"
      ],
      "metadata": {
        "id": "rRcYcHI8GjD3"
      }
    },
    {
      "cell_type": "code",
      "source": [
        "# Re-define data \n",
        "df = data.loc[:, data.columns.difference (['longevity','Breed','Country of Origin','Fur Color','Height','Color of Eyes','Character Traits','Common Health Problems'])]"
      ],
      "metadata": {
        "id": "HSStvr2ZIuKT"
      },
      "execution_count": 751,
      "outputs": []
    },
    {
      "cell_type": "code",
      "source": [
        "df_corr = df.corr()\n",
        "sns.heatmap(df_corr)"
      ],
      "metadata": {
        "colab": {
          "base_uri": "https://localhost:8080/",
          "height": 411
        },
        "id": "iVRWsgNeI0bw",
        "outputId": "88afdbbb-e45a-4fba-a1a5-29ec1f7862af"
      },
      "execution_count": 752,
      "outputs": [
        {
          "output_type": "execute_result",
          "data": {
            "text/plain": [
              "<matplotlib.axes._subplots.AxesSubplot at 0x7ff356bd78e0>"
            ]
          },
          "metadata": {},
          "execution_count": 752
        },
        {
          "output_type": "display_data",
          "data": {
            "text/plain": [
              "<Figure size 432x288 with 2 Axes>"
            ],
            "image/png": "[encoded data removed]"
          },
          "metadata": {
            "needs_background": "light"
          }
        }
      ]
    },
    {
      "cell_type": "code",
      "source": [
        "# Top 5 highest correlations \n",
        "df_corr\n",
        "def get_redundant_pairs(df):\n",
        "  pairs_to_drop = set()\n",
        "  cols = df.columns\n",
        "  for i in range(0, df.shape[1]):\n",
        "    for j in range(0,i+1):\n",
        "      pairs_to_drop.add((cols[i],cols[j]))\n",
        "  return pairs_to_drop\n",
        "\n",
        "def get_top_abs_correlations(df, n=10):\n",
        "  abs_corr = df.corr().abs().unstack()\n",
        "  labels_to_drop = get_redundant_pairs(df)\n",
        "  abs_corr = abs_corr.drop(labels = labels_to_drop).sort_values(ascending = False)\n",
        "  return abs_corr[0:n]\n",
        "\n",
        "get_redundant_pairs(df_corr)\n",
        "get_top_abs_correlations(df, n=10)"
      ],
      "metadata": {
        "colab": {
          "base_uri": "https://localhost:8080/"
        },
        "id": "usrzyWwNLbnl",
        "outputId": "05652cd1-2f98-4f22-d816-14f237585c14"
      },
      "execution_count": 762,
      "outputs": [
        {
          "output_type": "execute_result",
          "data": {
            "text/plain": [
              "active               hypoallergenic                 1.000000\n",
              "brave                calm                           1.000000\n",
              "active               bladder stones                 0.809239\n",
              "bladder stones       hypoallergenic                 0.809239\n",
              "epilepsy             hypoallergenic                 0.809239\n",
              "active               epilepsy                       0.809239\n",
              "dental problems      hip dysplasia                  0.791218\n",
              "curious              intervertebral disc disease    0.704052\n",
              "hereditary myopathy  strong                         0.704052\n",
              "charming             social                         0.704052\n",
              "dtype: float64"
            ]
          },
          "metadata": {},
          "execution_count": 762
        }
      ]
    },
    {
      "cell_type": "code",
      "source": [
        "df_corr['dental problems']['hip dysplasia']"
      ],
      "metadata": {
        "colab": {
          "base_uri": "https://localhost:8080/"
        },
        "id": "OUVaZHYfgTzd",
        "outputId": "5da77061-2381-481c-b280-b5102bd84645"
      },
      "execution_count": 765,
      "outputs": [
        {
          "output_type": "execute_result",
          "data": {
            "text/plain": [
              "-0.7912175268062703"
            ]
          },
          "metadata": {},
          "execution_count": 765
        }
      ]
    },
    {
      "cell_type": "markdown",
      "source": [
        "Checking the sign for the top 10 highest correlations, only `dental problems` and `hip dysplasia` has a negative relationship with a coef of about -0.79, and others all have positive relationship."
      ],
      "metadata": {
        "id": "6v7tFgjFf3oR"
      }
    },
    {
      "cell_type": "markdown",
      "source": [
        "Correlation between the `avg_height` and `avg_longevity`"
      ],
      "metadata": {
        "id": "S89LR1dgDkbS"
      }
    },
    {
      "cell_type": "code",
      "source": [
        "df_y_corr = df.corr"
      ],
      "metadata": {
        "id": "1hfIPAFfSEPf"
      },
      "execution_count": 757,
      "outputs": []
    },
    {
      "cell_type": "code",
      "source": [
        "# Is there any corrleation between logevity and height\n",
        "sns.lmplot(x=\"avg_height\", y=\"avg_longevity\", data = data, height=6, aspect=1.5)\n",
        "# Correlation coefficient\n",
        "np.corrcoef(data['avg_height'], data['avg_longevity'])\n",
        "#-0.59626629"
      ],
      "metadata": {
        "colab": {
          "base_uri": "https://localhost:8080/",
          "height": 477
        },
        "id": "xeM2ncDbTgj0",
        "outputId": "27cda5bc-f208-4401-a3c5-4b468b6b1089"
      },
      "execution_count": 830,
      "outputs": [
        {
          "output_type": "execute_result",
          "data": {
            "text/plain": [
              "array([[ 1.        , -0.59626629],\n",
              "       [-0.59626629,  1.        ]])"
            ]
          },
          "metadata": {},
          "execution_count": 830
        },
        {
          "output_type": "display_data",
          "data": {
            "text/plain": [
              "<Figure size 648x432 with 1 Axes>"
            ],
            "image/png": "[encoded data removed]"
          },
          "metadata": {
            "needs_background": "light"
          }
        }
      ]
    },
    {
      "cell_type": "markdown",
      "source": [
        "There is a negative relationship between the dog average height and the dog average longevity. The correlation coefficent is -0.59626629, which means with the increase in dog height, it is expected to have a shorter lifespan. However, the relationship between the two variables are not strong."
      ],
      "metadata": {
        "id": "obf3innbqoYj"
      }
    }
  ]
}